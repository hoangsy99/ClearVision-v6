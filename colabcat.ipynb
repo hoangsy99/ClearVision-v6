{
  "nbformat": 4,
  "nbformat_minor": 0,
  "metadata": {
    "colab": {
      "name": "colabcat.ipynb",
      "provenance": [],
      "gpuType": "T4"
    },
    "kernelspec": {
      "name": "python3",
      "display_name": "Python 3"
    },
    "accelerator": "GPU"
  },
  "cells": [
    {
      "cell_type": "code",
      "metadata": {
        "id": "qx7jld_zTB1E"
      },
      "source": [
        "# Check GPU Specs\n",
        "!nvidia-smi"
      ],
      "execution_count": null,
      "outputs": []
    },
    {
      "cell_type": "code",
      "metadata": {
        "id": "6FHgYTj3Xb4d"
      },
      "source": [
        "# Get hashes to crack\n",
        "# Make a directory called 'dothashcat' in your Google Drive before this\n",
        "# with the 'hashes' subdirectory for storing hashes\n",
        "from google.colab import drive\n",
        "\n",
        "# This will ask you to go to a link and get an authorization code\n",
        "# to let the .hashcat folder get synced to your Google Drive\n",
        "drive.mount('/content/drive')\n",
        "\n",
        "# Make a symbolic link between Google Drive\n",
        "# and the local .hashcat directory\n",
        "!ls /content/drive/My\\ Drive/dothashcat\n",
        "!ln -s /content/drive/My\\ Drive/dothashcat /root/.hashcat"
      ],
      "execution_count": null,
      "outputs": []
    },
    {
      "cell_type": "code",
      "metadata": {
        "id": "Q5zVWgXVTc9X",
        "cellView": "both"
      },
      "source": [
        "# Clone, build and install Hashcat\n",
        "!apt install cmake build-essential -y\n",
        "!apt install checkinstall git -y\n",
        "!git clone https://github.com/hashcat/hashcat.git\n",
        "!cd hashcat && git submodule update --init && make && make install"
      ],
      "execution_count": null,
      "outputs": []
    },
    {
      "cell_type": "code",
      "metadata": {
        "id": "BKcdtozLUe1W"
      },
      "source": [
        "# Check the Hashcat Version to make sure it's installed correctly\n",
        "!hashcat --version"
      ],
      "execution_count": null,
      "outputs": []
    },
    {
      "cell_type": "code",
      "metadata": {
        "id": "UFwpl__HVvJ3"
      },
      "source": [
        "# WPA2 EAPOL Benchmark (change this to check the speed of whichever hash you're cracking)\n",
        "!hashcat -w 4 -m 2500 --benchmark"
      ],
      "execution_count": null,
      "outputs": []
    },
    {
      "cell_type": "code",
      "metadata": {
        "id": "5fmoX1ku_PsU"
      },
      "source": [
        "# Get wordlists\n",
        "!mkdir /root/wordlists && cd /root/wordlists\n",
        "\n",
        "# Clone the SecLists repository\n",
        "!git clone https://github.com/danielmiessler/SecLists /root/wordlists/SecLists\n",
        "\n",
        "# Append 'hashcat' for demonstration purposes\n",
        "!echo \"hashcat!\" >> /root/wordlists/SecLists/Passwords/Leaked-Databases/rockyou-75.txt\n",
        "\n",
        "!ls /root/wordlists/SecLists"
      ],
      "execution_count": null,
      "outputs": []
    },
    {
      "cell_type": "code",
      "metadata": {
        "id": "yIkXZRlEFUIz"
      },
      "source": [
        "# Check that your hashes are accessible to Colab\n",
        "!ls /root/.hashcat/hashes"
      ],
      "execution_count": null,
      "outputs": []
    },
    {
      "cell_type": "code",
      "metadata": {
        "id": "iLqp5xQCXwiq"
      },
      "source": [
        "# Start pure brute force cracking with a session name\n",
        "# !hashcat -m 2500 -a3 --session $SESSION /root/.hashcat/hashes/test.hccapx\n",
        "# !hashcat -m 2500 /root/.hashcat/hashes/test.hccapx -a 3 -w 4 --session test-session\n",
        "\n",
        "# Restore the session\n",
        "# !hashcat --session $SESSION --restore\n",
        "\n",
        "# Crack with a wordlist\n",
        "!hashcat -m 2500 /root/.hashcat/hashes/test.hccapx /root/wordlists/SecLists/Passwords/Leaked-Databases/rockyou-75.txt"
      ],
      "execution_count": null,
      "outputs": []
    },
    {
      "cell_type": "code",
      "metadata": {
        "id": "HrMTWTx2LUqP",
        "outputId": "92f70588-ab8a-47f2-8837-859ecfad2532",
        "colab": {
          "base_uri": "https://localhost:8080/",
          "height": 55
        }
      },
      "source": [
        "# creating new directory to store cap files\n",
        "!mkdir cap_files\n",
        "# uploading cap\n",
        "from google.colab import files\n",
        "\n",
        "uploaded = files.upload()\n",
        "\n",
        "for f_name in uploaded.keys():\n",
        "  print('User uploaded file \"{name}\" with length {length} bytes'.format(name=f_name, length=len(uploaded[f_name])))\n",
        "\n",
        "!mv {f_name} \"/content/cap_files/{f_name}\""
      ],
      "execution_count": null,
      "outputs": [
        {
          "data": {
            "text/html": [
              "\n",
              "     <input type=\"file\" id=\"files-ff5214a1-530b-45f0-b235-1542bce47a47\" name=\"files[]\" multiple disabled\n",
              "        style=\"border:none\" />\n",
              "     <output id=\"result-ff5214a1-530b-45f0-b235-1542bce47a47\">\n",
              "      Upload widget is only available when the cell has been executed in the\n",
              "      current browser session. Please rerun this cell to enable.\n",
              "      </output>\n",
              "      <script>// Copyright 2017 Google LLC\n",
              "//\n",
              "// Licensed under the Apache License, Version 2.0 (the \"License\");\n",
              "// you may not use this file except in compliance with the License.\n",
              "// You may obtain a copy of the License at\n",
              "//\n",
              "//      http://www.apache.org/licenses/LICENSE-2.0\n",
              "//\n",
              "// Unless required by applicable law or agreed to in writing, software\n",
              "// distributed under the License is distributed on an \"AS IS\" BASIS,\n",
              "// WITHOUT WARRANTIES OR CONDITIONS OF ANY KIND, either express or implied.\n",
              "// See the License for the specific language governing permissions and\n",
              "// limitations under the License.\n",
              "\n",
              "/**\n",
              " * @fileoverview Helpers for google.colab Python module.\n",
              " */\n",
              "(function(scope) {\n",
              "function span(text, styleAttributes = {}) {\n",
              "  const element = document.createElement('span');\n",
              "  element.textContent = text;\n",
              "  for (const key of Object.keys(styleAttributes)) {\n",
              "    element.style[key] = styleAttributes[key];\n",
              "  }\n",
              "  return element;\n",
              "}\n",
              "\n",
              "// Max number of bytes which will be uploaded at a time.\n",
              "const MAX_PAYLOAD_SIZE = 100 * 1024;\n",
              "\n",
              "function _uploadFiles(inputId, outputId) {\n",
              "  const steps = uploadFilesStep(inputId, outputId);\n",
              "  const outputElement = document.getElementById(outputId);\n",
              "  // Cache steps on the outputElement to make it available for the next call\n",
              "  // to uploadFilesContinue from Python.\n",
              "  outputElement.steps = steps;\n",
              "\n",
              "  return _uploadFilesContinue(outputId);\n",
              "}\n",
              "\n",
              "// This is roughly an async generator (not supported in the browser yet),\n",
              "// where there are multiple asynchronous steps and the Python side is going\n",
              "// to poll for completion of each step.\n",
              "// This uses a Promise to block the python side on completion of each step,\n",
              "// then passes the result of the previous step as the input to the next step.\n",
              "function _uploadFilesContinue(outputId) {\n",
              "  const outputElement = document.getElementById(outputId);\n",
              "  const steps = outputElement.steps;\n",
              "\n",
              "  const next = steps.next(outputElement.lastPromiseValue);\n",
              "  return Promise.resolve(next.value.promise).then((value) => {\n",
              "    // Cache the last promise value to make it available to the next\n",
              "    // step of the generator.\n",
              "    outputElement.lastPromiseValue = value;\n",
              "    return next.value.response;\n",
              "  });\n",
              "}\n",
              "\n",
              "/**\n",
              " * Generator function which is called between each async step of the upload\n",
              " * process.\n",
              " * @param {string} inputId Element ID of the input file picker element.\n",
              " * @param {string} outputId Element ID of the output display.\n",
              " * @return {!Iterable<!Object>} Iterable of next steps.\n",
              " */\n",
              "function* uploadFilesStep(inputId, outputId) {\n",
              "  const inputElement = document.getElementById(inputId);\n",
              "  inputElement.disabled = false;\n",
              "\n",
              "  const outputElement = document.getElementById(outputId);\n",
              "  outputElement.innerHTML = '';\n",
              "\n",
              "  const pickedPromise = new Promise((resolve) => {\n",
              "    inputElement.addEventListener('change', (e) => {\n",
              "      resolve(e.target.files);\n",
              "    });\n",
              "  });\n",
              "\n",
              "  const cancel = document.createElement('button');\n",
              "  inputElement.parentElement.appendChild(cancel);\n",
              "  cancel.textContent = 'Cancel upload';\n",
              "  const cancelPromise = new Promise((resolve) => {\n",
              "    cancel.onclick = () => {\n",
              "      resolve(null);\n",
              "    };\n",
              "  });\n",
              "\n",
              "  // Wait for the user to pick the files.\n",
              "  const files = yield {\n",
              "    promise: Promise.race([pickedPromise, cancelPromise]),\n",
              "    response: {\n",
              "      action: 'starting',\n",
              "    }\n",
              "  };\n",
              "\n",
              "  cancel.remove();\n",
              "\n",
              "  // Disable the input element since further picks are not allowed.\n",
              "  inputElement.disabled = true;\n",
              "\n",
              "  if (!files) {\n",
              "    return {\n",
              "      response: {\n",
              "        action: 'complete',\n",
              "      }\n",
              "    };\n",
              "  }\n",
              "\n",
              "  for (const file of files) {\n",
              "    const li = document.createElement('li');\n",
              "    li.append(span(file.name, {fontWeight: 'bold'}));\n",
              "    li.append(span(\n",
              "        `(${file.type || 'n/a'}) - ${file.size} bytes, ` +\n",
              "        `last modified: ${\n",
              "            file.lastModifiedDate ? file.lastModifiedDate.toLocaleDateString() :\n",
              "                                    'n/a'} - `));\n",
              "    const percent = span('0% done');\n",
              "    li.appendChild(percent);\n",
              "\n",
              "    outputElement.appendChild(li);\n",
              "\n",
              "    const fileDataPromise = new Promise((resolve) => {\n",
              "      const reader = new FileReader();\n",
              "      reader.onload = (e) => {\n",
              "        resolve(e.target.result);\n",
              "      };\n",
              "      reader.readAsArrayBuffer(file);\n",
              "    });\n",
              "    // Wait for the data to be ready.\n",
              "    let fileData = yield {\n",
              "      promise: fileDataPromise,\n",
              "      response: {\n",
              "        action: 'continue',\n",
              "      }\n",
              "    };\n",
              "\n",
              "    // Use a chunked sending to avoid message size limits. See b/62115660.\n",
              "    let position = 0;\n",
              "    do {\n",
              "      const length = Math.min(fileData.byteLength - position, MAX_PAYLOAD_SIZE);\n",
              "      const chunk = new Uint8Array(fileData, position, length);\n",
              "      position += length;\n",
              "\n",
              "      const base64 = btoa(String.fromCharCode.apply(null, chunk));\n",
              "      yield {\n",
              "        response: {\n",
              "          action: 'append',\n",
              "          file: file.name,\n",
              "          data: base64,\n",
              "        },\n",
              "      };\n",
              "\n",
              "      let percentDone = fileData.byteLength === 0 ?\n",
              "          100 :\n",
              "          Math.round((position / fileData.byteLength) * 100);\n",
              "      percent.textContent = `${percentDone}% done`;\n",
              "\n",
              "    } while (position < fileData.byteLength);\n",
              "  }\n",
              "\n",
              "  // All done.\n",
              "  yield {\n",
              "    response: {\n",
              "      action: 'complete',\n",
              "    }\n",
              "  };\n",
              "}\n",
              "\n",
              "scope.google = scope.google || {};\n",
              "scope.google.colab = scope.google.colab || {};\n",
              "scope.google.colab._files = {\n",
              "  _uploadFiles,\n",
              "  _uploadFilesContinue,\n",
              "};\n",
              "})(self);\n",
              "</script> "
            ],
            "text/plain": [
              "<IPython.core.display.HTML object>"
            ]
          },
          "metadata": {},
          "output_type": "display_data"
        }
      ]
    },
    {
      "cell_type": "code",
      "metadata": {
        "id": "uUrjIEd0ALR-"
      },
      "source": [
        "import glob\n",
        "import subprocess\n",
        "import re\n",
        "from tqdm import tqdm\n",
        "is_cracked = False\n",
        "wordlists = list()\n",
        "for wordlist in glob.glob('/root/wordlists/SecLists/Passwords/Common-Credentials/*'):\n",
        "  wordlists.append(wordlist)\n",
        "for wordlist in glob.glob('/root/wordlists/SecLists/Passwords/Cracked-Hashes/milw0rm-dictionary.txt'):\n",
        "  wordlists.append(wordlist)\n",
        "for wordlist in glob.glob('/root/wordlists/SecLists/Passwords/Default-Credentials/*'):\n",
        "  wordlists.append(wordlist)\n",
        "for wordlist in glob.glob('/root/wordlists/SecLists/Passwords/Honeypot-Captures/*'):\n",
        "  wordlists.append(wordlist)\n",
        "for wordlist in glob.glob('/root/wordlists/SecLists/Passwords/Leaked-Databases/*'):\n",
        "  wordlists.append(wordlist)\n",
        "for wordlist in glob.glob('/root/wordlists/SecLists/Passwords/Malware/*'):\n",
        "  wordlists.append(wordlist)\n",
        "for wordlist in glob.glob('/root/wordlists/SecLists/Passwords/WiFi-WPA/*'):\n",
        "  wordlists.append(wordlist)\n",
        "for wordlist in glob.glob('/root/wordlists/SecLists/Passwords/Software/*'):\n",
        "  wordlists.append(wordlist)\n",
        "for wordlist in glob.glob('/root/wordlists/SecLists/Passwords/*.txt'):\n",
        "  wordlists.append(wordlist)"
      ],
      "execution_count": null,
      "outputs": []
    },
    {
      "cell_type": "code",
      "metadata": {
        "id": "_4oUnuulDZw-"
      },
      "source": [
        "def check_if_cracked(command):\n",
        "  output = subprocess.check_output([command + \" --show\"], shell=True).decode()\n",
        "  if len(output) == 0:\n",
        "    return False\n",
        "  else:\n",
        "    return True\n",
        "\n"
      ],
      "execution_count": null,
      "outputs": []
    },
    {
      "cell_type": "code",
      "metadata": {
        "id": "2LWlGdbKCT2c"
      },
      "source": [
        "cap_file = f\"/content/cap_files/{f_name} \"\n",
        "for wordlist in tqdm(wordlists):\n",
        "  command = 'hashcat -m 2500 ' + cap_file + wordlist\n",
        "  subprocess.call([command],shell=True)\n",
        "  if check_if_cracked(command):\n",
        "    is_cracked = True\n",
        "  if is_cracked:\n",
        "    print(\"Password is cracked!!\")\n",
        "    cracked_password = subprocess.check_output([command + \" --show\"], shell=True).decode()\n",
        "    cracked_password = cracked_password.split(':')[-1]\n",
        "    print(f\"Password : {cracked_password}\")\n",
        "    print(f\"wordlist used : {wordlist}\")\n",
        "    break\n",
        "  else:\n",
        "    continue\n",
        "\n",
        "if is_cracked == False:\n",
        "  print(\"Password was not found in SecLists\")\n",
        "else:\n",
        "  pass"
      ],
      "execution_count": null,
      "outputs": []
    }
  ]
}